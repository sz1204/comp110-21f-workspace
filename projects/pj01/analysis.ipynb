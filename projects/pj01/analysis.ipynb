{
 "cells": [
  {
   "cell_type": "markdown",
   "metadata": {},
   "source": [
    "# Project One: Analysis\n",
    "\n",
    "Defining and utilizing functions to analyze data from COMP 110 students in the 2021 fall semester. \n",
    "\n",
    "### Hypothesis:\n",
    "The vast majority (>90%) of students who took AP Principles, AP Computer Science A, or a different formal programming computer class are either majoring (BS or BA) or minoring in computer science at UNC.\n"
   ]
  },
  {
   "cell_type": "code",
   "execution_count": null,
   "metadata": {},
   "outputs": [],
   "source": [
    "__author__ = \"730490960\""
   ]
  },
  {
   "cell_type": "markdown",
   "metadata": {},
   "source": [
    "This piece of code will automatically reload any changes made in `data_utils.py` and save."
   ]
  },
  {
   "cell_type": "code",
   "execution_count": null,
   "metadata": {},
   "outputs": [],
   "source": [
    "%reload_ext autoreload\n",
    "%autoreload 2"
   ]
  },
  {
   "cell_type": "markdown",
   "metadata": {},
   "source": [
    "This piece of code imports the `survey.csv` data into the Jupyter notebook so that the data can be analyzed in the upcoming functions. It defines the `DATA_DIRECTORY` constant as a `str` that references the `data` directory.\n",
    "The `DATA_FILE_PATH` constant references the path to the data file used to test the functions in this analysis."
   ]
  },
  {
   "cell_type": "code",
   "execution_count": null,
   "metadata": {},
   "outputs": [],
   "source": [
    "DATA_DIRECTORY=\"../../data\"\n",
    "DATA_FILE_PATH=f\"{DATA_DIRECTORY}/survey.csv\""
   ]
  },
  {
   "cell_type": "markdown",
   "metadata": {},
   "source": [
    "## `read_csv_rows` Function\n",
    "This is an implementation of the `read_csv_rows` function. The function will read an entire CSV of data into a `list` of rows, with each row represented as `dict[str, str]`. The function intakes a `str` path to the CSV file, and returns a `list[dict[str, str]]`."
   ]
  },
  {
   "cell_type": "code",
   "execution_count": null,
   "metadata": {},
   "outputs": [],
   "source": [
    "from data_utils import read_csv_rows\n",
    "data_rows: list[dict[str, str]] = read_csv_rows(DATA_FILE_PATH)\n",
    "\n",
    "if len(data_rows) != 0:\n",
    "    print(f\"Data File Read: {DATA_FILE_PATH}\")\n",
    "    print(f\"{len(data_rows)} rows\")\n",
    "    print(f\"{len(data_rows[0].keys())} columns\")\n",
    "    print(f\"Columns names: {data_rows[0].keys()}\")"
   ]
  },
  {
   "cell_type": "markdown",
   "metadata": {},
   "source": [
    "## `column_values` function\n",
    "Produces a `list[str]` of all values in a single column whose name is the secon"
   ]
  },
  {
   "cell_type": "markdown",
   "metadata": {},
   "source": [
    "## `columnar` function\n",
    "The `columnar` function transform a table represented as a list of rows into one represented as a dictionary of columns. This makes it easier to perform analysis column-wise. The parameter of this function is a `list[dict[str, str]] that is a \"table\" organized as a list of rows, and it returns a `dict[str, list[str]]` that is a \"table\" organized as a dictionary of columns."
   ]
  },
  {
   "cell_type": "code",
   "execution_count": null,
   "metadata": {},
   "outputs": [],
   "source": [
    "from data_utils import columnar\n",
    "\n",
    "data_cols: dict[str, list[str]] = columnar(data_rows)\n",
    "\n",
    "if len(data_cols.keys()) != 0:\n",
    "    print(f\"{len(data_cols.keys())} columns\")\n",
    "    print(f\"{len(data_cols['subject_age'])} rows\")\n",
    "    print(f\"Columns names: {data_cols.keys()}\")"
   ]
  },
  {
   "cell_type": "markdown",
   "metadata": {},
   "source": [
    "## `select` function\n",
    "\n",
    "Produces a new column-based table with only a specific subset of the original columns. Selects only the relevant columns to focus on one specific problem. Takes a `dict[str, list[str]]` and a `list[str]`, and returns a `dict[str, list[str]]`."
   ]
  },
  {
   "cell_type": "markdown",
   "metadata": {},
   "source": [
    "## `head` function\n",
    "Produces a new column-based table with only the first `n` (a parameter) rows of data for each column. This helps to simplify the visualization of table with seemingly endless rows of data. Intakes a `dict[str, list[str]]` (a column-based table of data that will not be mutated) and an `int` (the number of rows to include in the resulting list) and returns a `dict[str, list[str]]`."
   ]
  },
  {
   "cell_type": "code",
   "execution_count": null,
   "metadata": {},
   "outputs": [],
   "source": [
    "from tabulate import tabulate\n",
    "\n",
    "data_cols_head: dict[str, list[str]] = head(data_cols, 5)\n",
    "\n",
    "if len(data_cols_head.keys()) != len(data_cols.keys()) or len(data_cols_head[\"subject_age\"]) != 5:\n",
    "    print(\"Complete your implementation of columnar in data_utils.py\")\n",
    "    print(\"Be sure to follow the guidelines above and save your work before re-evaluating!\")\n",
    "\n",
    "tabulate(data_cols_head, data_cols_head.keys(), \"html\")"
   ]
  },
  {
   "cell_type": "markdown",
   "metadata": {},
   "source": [
    "## `count` function\n",
    "This function takes in a `list[str]`, or list of values to count the frequencies of, and returns a `dict[str, int]` that is a dictionary of the counts of each of the items in the input list. "
   ]
  }
 ],
 "metadata": {
  "interpreter": {
   "hash": "a3e5c53ec2d4a5f697408540edef06c5b2f3d2815be0e792209162fb59331b8e"
  },
  "kernelspec": {
   "display_name": "Python 3.9.7 64-bit",
   "name": "python3"
  },
  "language_info": {
   "codemirror_mode": {
    "name": "ipython",
    "version": 3
   },
   "file_extension": ".py",
   "mimetype": "text/x-python",
   "name": "python",
   "nbconvert_exporter": "python",
   "pygments_lexer": "ipython3",
   "version": "3.9.7"
  },
  "orig_nbformat": 4
 },
 "nbformat": 4,
 "nbformat_minor": 2
}
